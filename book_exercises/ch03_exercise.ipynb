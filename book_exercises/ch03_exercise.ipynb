{
 "cells": [
  {
   "cell_type": "code",
   "execution_count": 1,
   "metadata": {},
   "outputs": [],
   "source": [
    "import arviz as az\n",
    "import seaborn as sns\n",
    "import pandas as pd\n",
    "import matplotlib.pyplot as plt\n",
    "import numpy as np\n",
    "import pymc3 as pm\n",
    "import scipy.stats as stats\n",
    "\n",
    "%matplotlib inline"
   ]
  },
  {
   "cell_type": "code",
   "execution_count": 13,
   "metadata": {},
   "outputs": [],
   "source": [
    "def generate_posterior(prior, successes, tosses):\n",
    "    p_grid = np.linspace(0, 1, prior.shape[0])\n",
    "    likelihood= stats.binom.pmf(k=successes, n=tosses, p=p_grid)\n",
    "    unstd_posterior = prior * likelihood\n",
    "    std_posterior = unstd_posterior/unstd_posterior.sum()\n",
    "    return p_grid, std_posterior"
   ]
  },
  {
   "cell_type": "markdown",
   "metadata": {},
   "source": [
    "#### Easy"
   ]
  },
  {
   "cell_type": "code",
   "execution_count": 20,
   "metadata": {},
   "outputs": [],
   "source": [
    "prior = np.ones((1000))\n",
    "p_grid, posterior = generate_posterior(prior, 6, 9)\n",
    "np.random.seed(100)\n",
    "p_samples = np.random.choice(p_grid, size=1000, p=posterior)"
   ]
  },
  {
   "cell_type": "code",
   "execution_count": 22,
   "metadata": {},
   "outputs": [
    {
     "data": {
      "text/plain": [
       "0.002"
      ]
     },
     "execution_count": 22,
     "metadata": {},
     "output_type": "execute_result"
    }
   ],
   "source": [
    "# 3E1.\n",
    "np.mean(p_samples<0.2)"
   ]
  },
  {
   "cell_type": "code",
   "execution_count": 23,
   "metadata": {},
   "outputs": [
    {
     "data": {
      "text/plain": [
       "0.122"
      ]
     },
     "execution_count": 23,
     "metadata": {},
     "output_type": "execute_result"
    }
   ],
   "source": [
    "# 3E2.\n",
    "np.mean(p_samples>0.8)"
   ]
  },
  {
   "cell_type": "code",
   "execution_count": 25,
   "metadata": {},
   "outputs": [
    {
     "data": {
      "text/plain": [
       "0.876"
      ]
     },
     "execution_count": 25,
     "metadata": {},
     "output_type": "execute_result"
    }
   ],
   "source": [
    "# 3E3.\n",
    "np.mean((p_samples>0.2) & (p_samples<0.8))"
   ]
  },
  {
   "cell_type": "code",
   "execution_count": 26,
   "metadata": {},
   "outputs": [
    {
     "data": {
      "text/plain": [
       "0.5165165165165165"
      ]
     },
     "execution_count": 26,
     "metadata": {},
     "output_type": "execute_result"
    }
   ],
   "source": [
    "# 3E4.\n",
    "np.quantile(p_samples, 0.2)"
   ]
  },
  {
   "cell_type": "code",
   "execution_count": 27,
   "metadata": {},
   "outputs": [
    {
     "data": {
      "text/plain": [
       "0.7587587587587588"
      ]
     },
     "execution_count": 27,
     "metadata": {},
     "output_type": "execute_result"
    }
   ],
   "source": [
    "# 3E5.\n",
    "np.quantile(p_samples, 0.8)"
   ]
  },
  {
   "cell_type": "code",
   "execution_count": 31,
   "metadata": {},
   "outputs": [
    {
     "data": {
      "text/plain": [
       "array([0.50550551, 0.77377377])"
      ]
     },
     "execution_count": 31,
     "metadata": {},
     "output_type": "execute_result"
    }
   ],
   "source": [
    "# 3E6.\n",
    "az.hpd(p_samples, 0.66)"
   ]
  },
  {
   "cell_type": "code",
   "execution_count": 34,
   "metadata": {},
   "outputs": [
    {
     "data": {
      "text/plain": [
       "array([0.5005005 , 0.77177177])"
      ]
     },
     "execution_count": 34,
     "metadata": {},
     "output_type": "execute_result"
    }
   ],
   "source": [
    "# 3E7.\n",
    "np.quantile(p_samples, q=((1-0.66)/2, (1+0.66)/2))"
   ]
  },
  {
   "cell_type": "markdown",
   "metadata": {},
   "source": [
    "#### Medium"
   ]
  },
  {
   "cell_type": "code",
   "execution_count": 68,
   "metadata": {},
   "outputs": [],
   "source": [
    "# 3M1.\n",
    "k, n = 8, 15\n",
    "prior = np.ones((1000))\n",
    "p_grid, posterior = generate_posterior(prior, k, n)"
   ]
  },
  {
   "cell_type": "code",
   "execution_count": 69,
   "metadata": {},
   "outputs": [
    {
     "name": "stdout",
     "output_type": "stream",
     "text": [
      "median(p)= 0.5305305305305306\n",
      "HPDI 90% [0.33533534 0.72072072]\n"
     ]
    }
   ],
   "source": [
    "# 3M2.\n",
    "n_samples = int(1e5)\n",
    "p_samples = np.random.choice(p_grid, size=n_samples, p=posterior)\n",
    "print(\"median(p)=\", np.median(p_samples))\n",
    "print(\"HPDI 90%\", az.hpd(p_samples, 0.9))"
   ]
  },
  {
   "cell_type": "code",
   "execution_count": 70,
   "metadata": {},
   "outputs": [
    {
     "name": "stdout",
     "output_type": "stream",
     "text": [
      "P(8 water in 15 tosses) = 0.14699\n"
     ]
    }
   ],
   "source": [
    "# 3M3.\n",
    "obs_simulated = stats.binom.rvs(n=n, p=p_samples)\n",
    "print(\"P(8 water in 15 tosses) =\", np.mean(obs_simulated==8))"
   ]
  },
  {
   "cell_type": "code",
   "execution_count": 71,
   "metadata": {},
   "outputs": [
    {
     "name": "stdout",
     "output_type": "stream",
     "text": [
      "P(6 water in 9 tosses) = 0.17638982366401934\n"
     ]
    }
   ],
   "source": [
    "# 3M4.\n",
    "print(\"P(6 water in 9 tosses) =\", np.sum(stats.binom.pmf(k=6, n=9, p=p_grid) * posterior))"
   ]
  },
  {
   "cell_type": "code",
   "execution_count": 72,
   "metadata": {},
   "outputs": [
    {
     "name": "stdout",
     "output_type": "stream",
     "text": [
      "median(p)= 0.5955955955955956\n",
      "HPDI 90% [0.5005005  0.71171171]\n",
      "P(8 water in 15 tosses) = 0.15441\n",
      "P(6 water in 9 tosses) = 0.23230713290578214\n"
     ]
    }
   ],
   "source": [
    "# 3M5 with new prior\n",
    "k, n = 8, 15\n",
    "prior = np.repeat((0,1), 500)\n",
    "p_grid, posterior = generate_posterior(prior, k, n)\n",
    "\n",
    "# redo 3M2\n",
    "p_samples = np.random.choice(p_grid, size=n_samples, p=posterior)\n",
    "print(\"median(p)=\", np.median(p_samples))\n",
    "print(\"HPDI 90%\", az.hpd(p_samples, 0.9))\n",
    "\n",
    "# redo 3M3\n",
    "obs_simulated = stats.binom.rvs(n, p=p_samples)\n",
    "print(\"P(8 water in 15 tosses) =\", np.mean(obs_simulated==8))\n",
    "\n",
    "# redo 3M4\n",
    "print(\"P(6 water in 9 tosses) =\", np.sum(stats.binom.pmf(k=6,n=9,p=p_grid)*posterior))"
   ]
  },
  {
   "cell_type": "markdown",
   "metadata": {},
   "source": [
    "#### Hard"
   ]
  },
  {
   "cell_type": "code",
   "execution_count": 217,
   "metadata": {},
   "outputs": [],
   "source": [
    "birth1 = np.array([1, 0, 0, 0, 1, 1, 0, 1, 0, 1, 0, 0, 1, 1, 0, 1, 1, 0, 0, 0, 1, 0, 0, 0, 1, 0, 0, 0, 0, 1, 1, 1, 0, 1, 0, 1, 1, 1, 0, 1, 0, 1, 1, 0, 1, 0, 0,\n",
    "                   1, 1, 0, 1, 0, 0, 0, 0, 0, 0, 0, 1, 1, 0, 1, 0, 0, 1, 0, 0, 0, 1, 0, 0, 1, 1, 1, 1, 0, 1, 0, 1, 1, 1, 1, 1, 0, 0, 1, 0, 1, 1, 0, 1, 0, 1, 1, 1, 0, 1, 1, 1, 1])\n",
    "birth2 = np.array([0, 1, 0, 1, 0, 1, 1, 1, 0, 0, 1, 1, 1, 1, 1, 0, 0, 1, 1, 1, 0, 0, 1, 1, 1, 0,\n",
    "                   1, 1, 1, 0, 1, 1, 1, 0, 1, 0, 0, 1, 1, 1, 1, 0, 0, 1, 0, 1, 1, 1, 1, 1, 1, 1, 1, 1, 1, 1, 1, 1,\n",
    "                   1, 1, 1, 0, 1, 1, 0, 1, 1, 0, 1, 1, 1, 0, 0, 0, 0, 0, 0, 1, 0, 0, 0, 1, 1, 0, 0, 1, 0, 0, 1, 1,\n",
    "                   0, 0, 0, 1, 1, 1, 0, 0, 0, 0])"
   ]
  },
  {
   "cell_type": "markdown",
   "metadata": {},
   "source": [
    "#### 3H1."
   ]
  },
  {
   "cell_type": "code",
   "execution_count": 218,
   "metadata": {},
   "outputs": [
    {
     "data": {
      "text/plain": [
       "0.5545545545545546"
      ]
     },
     "execution_count": 218,
     "metadata": {},
     "output_type": "execute_result"
    }
   ],
   "source": [
    "k = np.sum(birth1) + np.sum(birth2)\n",
    "n = len(birth1) + len(birth2)\n",
    "prior = np.ones((1000))\n",
    "p_grid, posterior = generate_posterior(prior, k, n)\n",
    "\n",
    "# parameter value maximizes the posterior probability\n",
    "p_grid[posterior.argmax()]"
   ]
  },
  {
   "cell_type": "markdown",
   "metadata": {},
   "source": [
    "#### 3H2."
   ]
  },
  {
   "cell_type": "code",
   "execution_count": 219,
   "metadata": {},
   "outputs": [
    {
     "name": "stdout",
     "output_type": "stream",
     "text": [
      "HPDI 50% [0.52552553 0.57257257]\n",
      "HPDI 89% [0.4964965  0.60760761]\n",
      "HPDI 97% [0.47947948 0.62962963]\n"
     ]
    }
   ],
   "source": [
    "p_samples = np.random.choice(p_grid, size=int(1e5), p=posterior)\n",
    "\n",
    "print(\"HPDI 50%\", az.hpd(p_samples, 0.5))\n",
    "print(\"HPDI 89%\", az.hpd(p_samples, 0.89))\n",
    "print(\"HPDI 97%\", az.hpd(p_samples, 0.97))"
   ]
  },
  {
   "cell_type": "code",
   "execution_count": 82,
   "metadata": {},
   "outputs": [
    {
     "data": {
      "text/html": [
       "<div>\n",
       "<style scoped>\n",
       "    .dataframe tbody tr th:only-of-type {\n",
       "        vertical-align: middle;\n",
       "    }\n",
       "\n",
       "    .dataframe tbody tr th {\n",
       "        vertical-align: top;\n",
       "    }\n",
       "\n",
       "    .dataframe thead th {\n",
       "        text-align: right;\n",
       "    }\n",
       "</style>\n",
       "<table border=\"1\" class=\"dataframe\">\n",
       "  <thead>\n",
       "    <tr style=\"text-align: right;\">\n",
       "      <th></th>\n",
       "      <th>interval</th>\n",
       "      <th>lower</th>\n",
       "      <th>upper</th>\n",
       "      <th>mean_</th>\n",
       "    </tr>\n",
       "  </thead>\n",
       "  <tbody>\n",
       "    <tr>\n",
       "      <th>0</th>\n",
       "      <td>0.50</td>\n",
       "      <td>0.530531</td>\n",
       "      <td>0.576577</td>\n",
       "      <td>0.554612</td>\n",
       "    </tr>\n",
       "    <tr>\n",
       "      <th>1</th>\n",
       "      <td>0.89</td>\n",
       "      <td>0.499499</td>\n",
       "      <td>0.609610</td>\n",
       "      <td>0.554612</td>\n",
       "    </tr>\n",
       "    <tr>\n",
       "      <th>2</th>\n",
       "      <td>0.97</td>\n",
       "      <td>0.477477</td>\n",
       "      <td>0.627628</td>\n",
       "      <td>0.554612</td>\n",
       "    </tr>\n",
       "  </tbody>\n",
       "</table>\n",
       "</div>"
      ],
      "text/plain": [
       "   interval     lower     upper     mean_\n",
       "0      0.50  0.530531  0.576577  0.554612\n",
       "1      0.89  0.499499  0.609610  0.554612\n",
       "2      0.97  0.477477  0.627628  0.554612"
      ]
     },
     "execution_count": 82,
     "metadata": {},
     "output_type": "execute_result"
    }
   ],
   "source": [
    "pd.DataFrame(\n",
    "    [[interval] + list(pm.hpd(p_samples, interval)) + [p_samples.mean()]\n",
    "     for interval in (.50, .89, .97)],\n",
    "    columns=['interval', 'lower', 'upper', 'mean_']\n",
    ")"
   ]
  },
  {
   "cell_type": "markdown",
   "metadata": {},
   "source": [
    "#### 3H3."
   ]
  },
  {
   "cell_type": "code",
   "execution_count": 105,
   "metadata": {},
   "outputs": [
    {
     "data": {
      "image/png": "[encoded data removed]",
      "text/plain": [
       "<Figure size 432x288 with 1 Axes>"
      ]
     },
     "metadata": {
      "needs_background": "light"
     },
     "output_type": "display_data"
    }
   ],
   "source": [
    "obs_simulated = stats.binom.rvs(n=200, p=p_samples)\n",
    "\n",
    "# plt.hist(obs_simulated, bins=201, density=True, alpha=.5)\n",
    "sns.kdeplot(obs_simulated)\n",
    "plt.axvline(x=111, color='orange')\n",
    "plt.xticks(ticks=list(plt.xticks()[0])+[111])\n",
    "pass"
   ]
  },
  {
   "cell_type": "markdown",
   "metadata": {},
   "source": [
    "#### 3H4."
   ]
  },
  {
   "cell_type": "code",
   "execution_count": 109,
   "metadata": {},
   "outputs": [
    {
     "name": "stdout",
     "output_type": "stream",
     "text": [
      "Number of boys as first birth = 51\n"
     ]
    }
   ],
   "source": [
    "boys_birth1 = np.sum(birth1)\n",
    "print(\"Number of boys as first birth =\", boys_birth1)"
   ]
  },
  {
   "cell_type": "code",
   "execution_count": 114,
   "metadata": {},
   "outputs": [
    {
     "data": {
      "image/png": "[encoded data removed]",
      "text/plain": [
       "<Figure size 432x288 with 1 Axes>"
      ]
     },
     "metadata": {
      "needs_background": "light"
     },
     "output_type": "display_data"
    }
   ],
   "source": [
    "obs_simulated = stats.binom.rvs(n=100, p=p_samples)\n",
    "\n",
    "sns.kdeplot(obs_simulated)\n",
    "plt.axvline(x=boys_birth1, color='orange')\n",
    "plt.text(x=boys_birth1+1, y=0.005, s=f'{boys_birth1} boys', color='orange')\n",
    "pass"
   ]
  },
  {
   "cell_type": "markdown",
   "metadata": {},
   "source": [
    "#### 3H5."
   ]
  },
  {
   "cell_type": "code",
   "execution_count": 116,
   "metadata": {},
   "outputs": [
    {
     "name": "stdout",
     "output_type": "stream",
     "text": [
      "Number of girls as first birth = 49\n"
     ]
    }
   ],
   "source": [
    "girls_birth1 = np.sum(birth1==0)\n",
    "print(\"Number of girls as first birth =\", girls_birth1)"
   ]
  },
  {
   "cell_type": "code",
   "execution_count": 118,
   "metadata": {},
   "outputs": [
    {
     "name": "stdout",
     "output_type": "stream",
     "text": [
      "Number of boys born after girl first borns = 39\n"
     ]
    }
   ],
   "source": [
    "boys_after_girls = np.sum((birth1 == 0).astype(int) * birth2)\n",
    "print(\"Number of boys born after girl first borns =\", boys_after_girls)"
   ]
  },
  {
   "cell_type": "code",
   "execution_count": 153,
   "metadata": {},
   "outputs": [
    {
     "name": "stdout",
     "output_type": "stream",
     "text": [
      "Number of boys born after boy first borns = 21\n"
     ]
    }
   ],
   "source": [
    "boys_after_boys = np.sum(birth1 * birth2)\n",
    "print(\"Number of boys born after boy first borns =\", boys_after_boys)"
   ]
  },
  {
   "cell_type": "code",
   "execution_count": 154,
   "metadata": {},
   "outputs": [],
   "source": [
    "births=(pd.DataFrame(zip(birth1, birth2), columns=['birth1', 'birth2'], dtype='category')\n",
    "        .assign(birth1 = lambda df: df.birth1.cat.rename_categories([\"girl\", \"boy\"]),\n",
    "               birth2 = lambda df: df.birth2.cat.rename_categories([\"girl\", \"boy\"])))"
   ]
  },
  {
   "cell_type": "code",
   "execution_count": 204,
   "metadata": {},
   "outputs": [
    {
     "data": {
      "text/html": [
       "<div>\n",
       "<style scoped>\n",
       "    .dataframe tbody tr th:only-of-type {\n",
       "        vertical-align: middle;\n",
       "    }\n",
       "\n",
       "    .dataframe tbody tr th {\n",
       "        vertical-align: top;\n",
       "    }\n",
       "\n",
       "    .dataframe thead th {\n",
       "        text-align: right;\n",
       "    }\n",
       "</style>\n",
       "<table border=\"1\" class=\"dataframe\">\n",
       "  <thead>\n",
       "    <tr style=\"text-align: right;\">\n",
       "      <th>birth2</th>\n",
       "      <th>girl</th>\n",
       "      <th>boy</th>\n",
       "      <th>birth1 Count</th>\n",
       "    </tr>\n",
       "    <tr>\n",
       "      <th>birth1</th>\n",
       "      <th></th>\n",
       "      <th></th>\n",
       "      <th></th>\n",
       "    </tr>\n",
       "  </thead>\n",
       "  <tbody>\n",
       "    <tr>\n",
       "      <th>girl</th>\n",
       "      <td>0.204082</td>\n",
       "      <td>0.795918</td>\n",
       "      <td>49</td>\n",
       "    </tr>\n",
       "    <tr>\n",
       "      <th>boy</th>\n",
       "      <td>0.588235</td>\n",
       "      <td>0.411765</td>\n",
       "      <td>51</td>\n",
       "    </tr>\n",
       "    <tr>\n",
       "      <th>All</th>\n",
       "      <td>0.400000</td>\n",
       "      <td>0.600000</td>\n",
       "      <td>100</td>\n",
       "    </tr>\n",
       "  </tbody>\n",
       "</table>\n",
       "</div>"
      ],
      "text/plain": [
       "birth2      girl       boy  birth1 Count\n",
       "birth1                                  \n",
       "girl    0.204082  0.795918            49\n",
       "boy     0.588235  0.411765            51\n",
       "All     0.400000  0.600000           100"
      ]
     },
     "execution_count": 204,
     "metadata": {},
     "output_type": "execute_result"
    }
   ],
   "source": [
    "obs_births_tab = (pd.crosstab(births.birth1,  births.birth2, margins=True)\n",
    "                 .assign(girl = lambda df: df.girl/df.All,\n",
    "                        boy = lambda df: df.boy/df.All)\n",
    "                 .rename(columns={'All':\"birth1 Count\"}))\n",
    "obs_births_tab"
   ]
  },
  {
   "cell_type": "code",
   "execution_count": 148,
   "metadata": {},
   "outputs": [],
   "source": [
    "# assume birth1 and birth2 independent\n",
    "# simulate boy birth for each group\n",
    "ind_grs_simulated = pd.DataFrame(\n",
    "    zip(stats.binom.rvs(n=100, p=p_samples), stats.binom.rvs(n=100, p=p_samples)),\n",
    "    columns = ['birth1', 'birth2'])"
   ]
  },
  {
   "cell_type": "code",
   "execution_count": 149,
   "metadata": {},
   "outputs": [
    {
     "data": {
      "text/html": [
       "<div>\n",
       "<style scoped>\n",
       "    .dataframe tbody tr th:only-of-type {\n",
       "        vertical-align: middle;\n",
       "    }\n",
       "\n",
       "    .dataframe tbody tr th {\n",
       "        vertical-align: top;\n",
       "    }\n",
       "\n",
       "    .dataframe thead th {\n",
       "        text-align: right;\n",
       "    }\n",
       "</style>\n",
       "<table border=\"1\" class=\"dataframe\">\n",
       "  <thead>\n",
       "    <tr style=\"text-align: right;\">\n",
       "      <th></th>\n",
       "      <th>birth1</th>\n",
       "      <th>birth2</th>\n",
       "    </tr>\n",
       "  </thead>\n",
       "  <tbody>\n",
       "    <tr>\n",
       "      <th>0</th>\n",
       "      <td>50</td>\n",
       "      <td>55</td>\n",
       "    </tr>\n",
       "    <tr>\n",
       "      <th>1</th>\n",
       "      <td>58</td>\n",
       "      <td>55</td>\n",
       "    </tr>\n",
       "    <tr>\n",
       "      <th>2</th>\n",
       "      <td>55</td>\n",
       "      <td>53</td>\n",
       "    </tr>\n",
       "    <tr>\n",
       "      <th>3</th>\n",
       "      <td>56</td>\n",
       "      <td>53</td>\n",
       "    </tr>\n",
       "    <tr>\n",
       "      <th>4</th>\n",
       "      <td>50</td>\n",
       "      <td>58</td>\n",
       "    </tr>\n",
       "  </tbody>\n",
       "</table>\n",
       "</div>"
      ],
      "text/plain": [
       "   birth1  birth2\n",
       "0      50      55\n",
       "1      58      55\n",
       "2      55      53\n",
       "3      56      53\n",
       "4      50      58"
      ]
     },
     "execution_count": 149,
     "metadata": {},
     "output_type": "execute_result"
    }
   ],
   "source": [
    "ind_grs_simulated.head()"
   ]
  },
  {
   "cell_type": "markdown",
   "metadata": {},
   "source": [
    "Compare observed boys as secondborn with posterior predictive boys as secondborn."
   ]
  },
  {
   "cell_type": "code",
   "execution_count": 158,
   "metadata": {},
   "outputs": [
    {
     "data": {
      "text/plain": [
       "<matplotlib.legend.Legend at 0x12251d2b0>"
      ]
     },
     "execution_count": 158,
     "metadata": {},
     "output_type": "execute_result"
    },
    {
     "data": {
      "image/png": "[encoded data removed]",
      "text/plain": [
       "<Figure size 432x288 with 1 Axes>"
      ]
     },
     "metadata": {
      "needs_background": "light"
     },
     "output_type": "display_data"
    }
   ],
   "source": [
    "# boys in birth2 simulated\n",
    "sns.kdeplot(ind_grs_simulated.birth2/2, label=\"half of secondborn boys\")\n",
    "plt.axvline(x=boys_after_girls, color='g', label='observed boys after girl')\n",
    "plt.axvline(x=boys_after_boys, color='orange', label='observed boys after boy')\n",
    "plt.legend(loc=2)"
   ]
  },
  {
   "cell_type": "markdown",
   "metadata": {},
   "source": [
    "3H4. shows that the current model is off. It assumes independence in consequent births, i.e., gender of the firstborn does not influence gender of the secondborn. \n",
    "\n",
    "Fix it.  \n",
    "Model the second birth seperately, conditioned on the first born gender."
   ]
  },
  {
   "cell_type": "code",
   "execution_count": 198,
   "metadata": {},
   "outputs": [],
   "source": [
    "boys_in_birth1 = np.sum(birth1)\n",
    "girls_in_birth1 = np.sum(birth1==0)\n",
    "boys_after_boys = np.dot(birth1, birth2.T)\n",
    "boys_after_girls = np.dot(birth1==0, birth2.T)\n",
    "n_births = len(birth1) + len(birth2)\n",
    "\n",
    "# model the first birth\n",
    "prior = np.ones((1000))\n",
    "p_grid, posterior_birth1 = generate_posterior(prior, boys_in_birth1, len(birth1))\n",
    "\n",
    "# model the second birth\n",
    "_, posterior_boy_after_boy = generate_posterior(prior, boys_after_boys, boys_in_birth1)\n",
    "_, posterior_boy_after_girl = generate_posterior(prior, boys_after_girls, girls_in_birth1)\n",
    "\n",
    "# sample second birth posterior\n",
    "p_baboy_samples = np.random.choice(a=p_grid, p=posterior_boy_after_boy, size=int(1e5))\n",
    "p_bagirl_samples = np.random.choice(a=p_grid, p=posterior_boy_after_girl, size=int(1e5))\n",
    "\n",
    "# posterior predictive second birth\n",
    "np.random.seed(1063)\n",
    "obs_sim_baboy = stats.binom.rvs(n=50, p=p_baboy_samples)\n",
    "obs_sim_bagirl = stats.binom.rvs(n=50, p=p_bagirl_samples)"
   ]
  },
  {
   "cell_type": "code",
   "execution_count": 208,
   "metadata": {},
   "outputs": [
    {
     "data": {
      "image/png": "[encoded data removed]",
      "text/plain": [
       "<Figure size 864x360 with 1 Axes>"
      ]
     },
     "metadata": {
      "needs_background": "light"
     },
     "output_type": "display_data"
    }
   ],
   "source": [
    "plt.figure(figsize=(12,5))\n",
    "\n",
    "# boys from group independent model\n",
    "plt.hist(ind_grs_simulated.birth2/2, color='teal', bins=23, alpha=.4, density=True, label=\"ind simulated boys in birth2\")\n",
    "plt.axvline(x=np.sum(birth2)/2, color='teal', label='half observed boys in birth2')\n",
    "\n",
    "# boys after boy from conditioned model\n",
    "plt.hist(obs_sim_baboy, color='purple', bins=23, alpha=.4, density=True, label=\"simulated boys after boy\")\n",
    "plt.axvline(boys_after_boys, color='purple', label=\"observed boys after boy\")\n",
    "\n",
    "# boys after gril from conditioned model\n",
    "plt.hist(obs_sim_bagirl, color='orange', bins=23, alpha=.4, density=True, label=\"simulated boys after girls\")\n",
    "plt.axvline(boys_after_girls, color='orange', label=\"observed boys after girl\")\n",
    "\n",
    "plt.title(\"Boys as secondborn, two models' comparison\", fontsize=16)\n",
    "plt.legend(loc=2)\n",
    "pass"
   ]
  },
  {
   "cell_type": "markdown",
   "metadata": {},
   "source": [
    "The original model with independence assumption underestimates the number of boys as secondborn. Under the conditional model, we can clearly see that when girls are the first born, it is more likely that the second born is a boy. Gender bias against girls?? Given this set of data, it is not the sole factor contributing to the gap between boys after boys and boys after girls. \n",
    "\n",
    "**Alternative Cause**  \n",
    "In my opinion, the gap can also be caused by the case that people like to have one kid in each gender.  \n",
    "My reasonings: \n",
    "1. The observed girls after boy is also higher than boys after boy, 59% vs 41%. \n",
    "2. In crosstab table below, vals in / diagonal are higher than vals in \\ diagonal. Opposite gender is more frequent, conditioned on firstborn gender.\n",
    "3. In plot 'Boy or Girl, given boy as firstborn' below, the two distributions are quite seperated.  It is more likely to have a girl given first born is boy.\n",
    "\n",
    "**In summary**  \n",
    "It is more likly to have a secondborn child in opposite gender to the first born's gender.  Gender bias against girls as well as parents' preference in having a boy & a girl can be the two contributing factors. \n",
    "\n",
    "**Why not just attributing all to parents' preference?**\n",
    "1. the gap between boys after girls and boys after boys --> potential gender bias\n",
    "2. the gap between girls after boys and boys after boys --> parents' preference\n",
    "\n",
    "Gap 1. is much wider than Gap 2. Plus the overlapping area in 'Boys as secondborn' plot is much smaller than that in 'Boy or Girl, given boys as firstborn' plot."
   ]
  },
  {
   "cell_type": "code",
   "execution_count": 207,
   "metadata": {},
   "outputs": [
    {
     "data": {
      "text/html": [
       "<div>\n",
       "<style scoped>\n",
       "    .dataframe tbody tr th:only-of-type {\n",
       "        vertical-align: middle;\n",
       "    }\n",
       "\n",
       "    .dataframe tbody tr th {\n",
       "        vertical-align: top;\n",
       "    }\n",
       "\n",
       "    .dataframe thead th {\n",
       "        text-align: right;\n",
       "    }\n",
       "</style>\n",
       "<table border=\"1\" class=\"dataframe\">\n",
       "  <thead>\n",
       "    <tr style=\"text-align: right;\">\n",
       "      <th>birth2</th>\n",
       "      <th>girl</th>\n",
       "      <th>boy</th>\n",
       "      <th>birth1 Count</th>\n",
       "    </tr>\n",
       "    <tr>\n",
       "      <th>birth1</th>\n",
       "      <th></th>\n",
       "      <th></th>\n",
       "      <th></th>\n",
       "    </tr>\n",
       "  </thead>\n",
       "  <tbody>\n",
       "    <tr>\n",
       "      <th>girl</th>\n",
       "      <td>0.204082</td>\n",
       "      <td>0.795918</td>\n",
       "      <td>49</td>\n",
       "    </tr>\n",
       "    <tr>\n",
       "      <th>boy</th>\n",
       "      <td>0.588235</td>\n",
       "      <td>0.411765</td>\n",
       "      <td>51</td>\n",
       "    </tr>\n",
       "    <tr>\n",
       "      <th>All</th>\n",
       "      <td>0.400000</td>\n",
       "      <td>0.600000</td>\n",
       "      <td>100</td>\n",
       "    </tr>\n",
       "  </tbody>\n",
       "</table>\n",
       "</div>"
      ],
      "text/plain": [
       "birth2      girl       boy  birth1 Count\n",
       "birth1                                  \n",
       "girl    0.204082  0.795918            49\n",
       "boy     0.588235  0.411765            51\n",
       "All     0.400000  0.600000           100"
      ]
     },
     "execution_count": 207,
     "metadata": {},
     "output_type": "execute_result"
    }
   ],
   "source": [
    "obs_births_tab"
   ]
  },
  {
   "cell_type": "code",
   "execution_count": 214,
   "metadata": {},
   "outputs": [],
   "source": [
    "girls_after_boy = np.dot(birth1, (birth2==0).T)\n",
    "\n",
    "# model the second birth of girls after boy\n",
    "_, posterior_girl_after_boy = generate_posterior(prior, girls_after_boy, boys_in_birth1)\n",
    "\n",
    "# sample second birth posterior of girls after boy\n",
    "p_grilaboy_samples = np.random.choice(a=p_grid, p=posterior_girl_after_boy, size=int(1e5))\n",
    "\n",
    "# posterior predictive second birth of girls after boy\n",
    "np.random.seed(1063)\n",
    "obs_sim_girlaboy = stats.binom.rvs(n=50, p=p_grilaboy_samples)"
   ]
  },
  {
   "cell_type": "code",
   "execution_count": 234,
   "metadata": {},
   "outputs": [
    {
     "name": "stdout",
     "output_type": "stream",
     "text": [
      "median of boys after boy: 0.41\n",
      "median of girls after boy: 0.59\n",
      "HPDI 90% of boys after boy: [0.3  0.52]\n",
      "HPDI 90% of girls after boy: [0.47 0.69]\n",
      "ratio of overlapping HPDI: 0.25\n"
     ]
    }
   ],
   "source": [
    "# median and HPDI\n",
    "print(\"median of boys after boy:\", np.round(np.median(p_baboy_samples),2))\n",
    "print(\"median of girls after boy:\", np.round(np.median(p_grilaboy_samples),2))\n",
    "\n",
    "hpdi_bab = az.hpd(p_baboy_samples, 0.9)\n",
    "hpdi_gab = az.hpd(p_grilaboy_samples, 0.9)\n",
    "print(\"HPDI 90% of boys after boy:\", np.round(hpdi_bab,2))\n",
    "print(\"HPDI 90% of girls after boy:\", np.round(hpdi_gab,2))\n",
    "\n",
    "print(\"ratio of overlapping HPDI: {:.2f}\".format(np.divide(hpdi_bab[1]-hpdi_gab[0],hpdi_gab[1]-hpdi_gab[0])))"
   ]
  },
  {
   "cell_type": "code",
   "execution_count": 215,
   "metadata": {},
   "outputs": [
    {
     "data": {
      "image/png": "[encoded data removed]",
      "text/plain": [
       "<Figure size 864x360 with 1 Axes>"
      ]
     },
     "metadata": {
      "needs_background": "light"
     },
     "output_type": "display_data"
    }
   ],
   "source": [
    "plt.figure(figsize=(12,5))\n",
    "\n",
    "# boys after boy from conditioned model\n",
    "plt.hist(obs_sim_baboy, color='purple', bins=23, alpha=.4, density=True, label=\"simulated boys after boy\")\n",
    "plt.axvline(boys_after_boys, color='purple', label=\"observed boys after boy\")\n",
    "\n",
    "# girls after boy from conditioned model\n",
    "plt.hist(obs_sim_girlaboy, color='orange', bins=23, alpha=.4, density=True, label=\"simulated girls after boy\")\n",
    "plt.axvline(girls_after_boy, color='orange', label=\"observed girls after boy\")\n",
    "\n",
    "plt.title(\"Boy or Girl, given boys as firstborn\", fontsize=16)\n",
    "plt.legend(loc=2)\n",
    "pass"
   ]
  }
 ],
 "metadata": {
  "kernelspec": {
   "display_name": "Python 3",
   "language": "python",
   "name": "python3"
  },
  "language_info": {
   "codemirror_mode": {
    "name": "ipython",
    "version": 3
   },
   "file_extension": ".py",
   "mimetype": "text/x-python",
   "name": "python",
   "nbconvert_exporter": "python",
   "pygments_lexer": "ipython3",
   "version": "3.8.2"
  }
 },
 "nbformat": 4,
 "nbformat_minor": 4
}
